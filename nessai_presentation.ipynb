{
 "cells": [
  {
   "cell_type": "markdown",
   "id": "08ff7a4d-8a0c-464d-a5c2-4e15fae65df0",
   "metadata": {
    "hideCode": false,
    "hidePrompt": false,
    "slideshow": {
     "slide_type": "slide"
    },
    "tags": []
   },
   "source": [
    "# nessai: Improved nested sampling with normalising flows\n",
    "\n",
    "**Michael J. Williams, John Veitch, Chris Messenger**\n",
    "\n",
    "**Insitute for Gravitational Research, University of Glasgow**"
   ]
  },
  {
   "cell_type": "code",
   "execution_count": 1,
   "id": "baea7ecc-7f42-4d06-ae2e-8f3da7513915",
   "metadata": {
    "hideCode": false,
    "hidePrompt": false,
    "slideshow": {
     "slide_type": "skip"
    },
    "tags": []
   },
   "outputs": [],
   "source": [
    "from IPython.display import Image\n",
    "import matplotlib.pyplot as plt\n",
    "import nessai\n",
    "import seaborn as sns\n",
    "\n",
    "sns.set_context('talk')\n",
    "sns.set_style('ticks')\n",
    "sns.set_palette('colorblind')\n",
    "plt.rcParams['figure.dpi'] = 150"
   ]
  },
  {
   "cell_type": "markdown",
   "id": "b76cd447",
   "metadata": {
    "hideCode": false,
    "hidePrompt": false,
    "slideshow": {
     "slide_type": "slide"
    }
   },
   "source": [
    "# Nested sampling"
   ]
  },
  {
   "cell_type": "markdown",
   "id": "f8acd5c3-1272-4f9c-86b1-bec88fbd294a",
   "metadata": {
    "cell_style": "split",
    "hideCode": false,
    "hidePrompt": false,
    "slideshow": {
     "slide_type": "fragment"
    }
   },
   "source": [
    "### Bayes theorem\n",
    "\n",
    "We want to determine the posterior distribution\n",
    "\n",
    "$$\n",
    "p(\\theta|d, H) = \\frac{p(d|\\theta, H)p(\\theta|H)}{p(d|H)}\n",
    "$$\n",
    "\n",
    "but we can do this directly. So we typically use Monte Carlo based algorithms.\n",
    "\n",
    "### Nested sampling\n",
    "\n",
    "In nested sampling the evidence is re-written as 1-d integral in terms of the **prior volume** $X$\n",
    "\n",
    "$$\n",
    "Z = \\int_{0}^{1}L(X) dX.\n",
    "$$"
   ]
  },
  {
   "cell_type": "markdown",
   "id": "dcc41664",
   "metadata": {
    "cell_style": "split",
    "hideCode": false,
    "hidePrompt": false,
    "slideshow": {
     "slide_type": "fragment"
    }
   },
   "source": [
    "<center><img src=\"figures/nest_plot.png\" width=\"100%\"></center>"
   ]
  },
  {
   "cell_type": "markdown",
   "id": "5e1fcf89",
   "metadata": {
    "slideshow": {
     "slide_type": "skip"
    }
   },
   "source": [
    "Prevent split slides from merging on to one."
   ]
  },
  {
   "cell_type": "markdown",
   "id": "4c33bf9f-3250-45b6-877d-6675d2978a09",
   "metadata": {
    "cell_style": "split",
    "hideCode": false,
    "hidePrompt": false,
    "slideshow": {
     "slide_type": "subslide"
    }
   },
   "source": [
    "**Challeges with nested sampling**\n",
    "\n",
    "1. New point must be drawn from the prior\n",
    "2. The must satisfy the likelihood contraint\n",
    "3. They must be statistically independent of the other/previous points\n",
    "\n",
    "Proposing new points is therefore usually a signficant bottleneck."
   ]
  },
  {
   "cell_type": "markdown",
   "id": "50cf71cc",
   "metadata": {
    "cell_style": "split",
    "hideCode": false,
    "hidePrompt": false,
    "slideshow": {
     "slide_type": "-"
    }
   },
   "source": [
    "<center><img src=\"figures/nest_plot.png\" width=\"100%\"></center>"
   ]
  },
  {
   "cell_type": "markdown",
   "id": "f645822f",
   "metadata": {
    "slideshow": {
     "slide_type": "slide"
    }
   },
   "source": [
    "# nessai: NeSted Sampling with Aritificial Intelligence"
   ]
  },
  {
   "cell_type": "markdown",
   "id": "4a5a8197-d93b-4ad3-b08b-b1134ad2bb60",
   "metadata": {
    "hideCode": false,
    "hidePrompt": false,
    "slideshow": {
     "slide_type": "subslide"
    },
    "tags": []
   },
   "source": [
    "# Core idea\n",
    "\n",
    "Train a machine learning algorithm to learn iso-likelihood contours during nested sampling and then sample directly from those contours to produce new samples according to the prior.\n",
    "\n",
    "<center><img src='figures/contours_idea.png'></center>"
   ]
  },
  {
   "cell_type": "markdown",
   "id": "c5f6c2fe",
   "metadata": {
    "hideCode": false,
    "hidePrompt": false,
    "slideshow": {
     "slide_type": "subslide"
    },
    "tags": []
   },
   "source": [
    "\n",
    "# Normalising flows\n",
    "\n",
    "Normalising flows a type of generative machine learning algorithm that learn an invertible mapping from a complex distribution ito a simple distribution.\n",
    "\n",
    "<center><img src='figures/flow_steps.png' width=\"200%\"></center>"
   ]
  },
  {
   "cell_type": "markdown",
   "id": "1bff95d5-90ca-4f7c-b2e8-fdf767d0b992",
   "metadata": {
    "hideCode": false,
    "hidePrompt": false,
    "slideshow": {
     "slide_type": "fragment"
    },
    "tags": []
   },
   "source": [
    "The mapping has a tractable Jacobian so we can compute the probability of a sample in the physical space:\n",
    "\n",
    "$$\n",
    "p_{X}(x) = p_{Z}(f(x)) \\left| \\frac{\\partial f(x)}{\\partial x}\\right|,\n",
    "$$\n",
    "\n",
    "where $f$ is the normalising flow."
   ]
  },
  {
   "cell_type": "markdown",
   "id": "0e2c0734",
   "metadata": {
    "slideshow": {
     "slide_type": "subslide"
    }
   },
   "source": [
    "# Constructing contours\n",
    "\n",
    "We use the fact that the latent space is Gaussian and the mapping it invertible to construct contours in the latent space and map them back to the sampling space.\n",
    "\n",
    "<center><img src='figures/contours_idea_latent.png'></center>"
   ]
  },
  {
   "cell_type": "markdown",
   "id": "a9a2f835-553f-4548-83d9-79dc2065d68b",
   "metadata": {
    "hideCode": false,
    "hidePrompt": false,
    "slideshow": {
     "slide_type": "subslide"
    }
   },
   "source": [
    "# Core algorithm"
   ]
  },
  {
   "cell_type": "markdown",
   "id": "9b7e03a8",
   "metadata": {
    "cell_style": "split",
    "slideshow": {
     "slide_type": "fragment"
    }
   },
   "source": [
    "<center><img src=\"figures/nessai_cycle.png\"></center>"
   ]
  },
  {
   "cell_type": "markdown",
   "id": "60b867b5",
   "metadata": {
    "cell_style": "split",
    "slideshow": {
     "slide_type": "fragment"
    }
   },
   "source": [
    "`nessai` can be broken down in three steps:"
   ]
  },
  {
   "cell_type": "markdown",
   "id": "34e88713",
   "metadata": {
    "cell_style": "split",
    "slideshow": {
     "slide_type": "fragment"
    }
   },
   "source": [
    "1. **Training** - the normalising flow is trained using the current set of live points"
   ]
  },
  {
   "cell_type": "markdown",
   "id": "159063a8",
   "metadata": {
    "cell_style": "split",
    "slideshow": {
     "slide_type": "fragment"
    }
   },
   "source": [
    "2. **Population** - new points are drawn from the trained flow and their likelihoods evaluated and they're stored in a pool"
   ]
  },
  {
   "cell_type": "markdown",
   "id": "59c5ee42",
   "metadata": {
    "cell_style": "split",
    "slideshow": {
     "slide_type": "fragment"
    }
   },
   "source": [
    "3. **Proposal** - the main nested sampling step when new points are proposed and accepted if they meet the likelihood criterion"
   ]
  },
  {
   "cell_type": "markdown",
   "id": "962e10a0",
   "metadata": {
    "hideCode": false,
    "hidePrompt": false,
    "slideshow": {
     "slide_type": "slide"
    }
   },
   "source": [
    "\n",
    "# Validating nessai"
   ]
  },
  {
   "cell_type": "markdown",
   "id": "84b62b7b",
   "metadata": {
    "cell_style": "split",
    "hideCode": false,
    "hidePrompt": false,
    "slideshow": {
     "slide_type": "subslide"
    }
   },
   "source": [
    "## Testing with CBC signals\n",
    "\n",
    "`nessai` is a general purpose nested sampling algorithm, but a lot our testing has focused on analysing gravitational waves from Compact Binary Coalscence (CBC).\n",
    "\n",
    "In our first paper on `nessai` we showed that it could reliably recover posterior distributions for simulated signals from binary black holes.\n",
    "\n",
    "We analysed 128 4-second injections in a three detector network with a median SNR of 16.3.\n",
    "\n",
    "<center><img src='figures/snr_dist.png' width=\"50%\"></center>"
   ]
  },
  {
   "cell_type": "markdown",
   "id": "06644c80",
   "metadata": {
    "cell_style": "split",
    "hideCode": false,
    "hidePrompt": false,
    "slideshow": {
     "slide_type": "fragment"
    }
   },
   "source": [
    "## PP tests\n",
    "\n",
    "<center><img src='./figures/pp_plot_nessai.png'></center>"
   ]
  },
  {
   "cell_type": "markdown",
   "id": "edf55464",
   "metadata": {
    "hideCode": false,
    "hidePrompt": false,
    "slideshow": {
     "slide_type": "subslide"
    }
   },
   "source": [
    "# Comparison to dynesty\n",
    "\n",
    "<center><img src='./figures/comparison.png'></center>"
   ]
  },
  {
   "cell_type": "markdown",
   "id": "8b0408d6",
   "metadata": {
    "hideCode": false,
    "hidePrompt": false,
    "slideshow": {
     "slide_type": "slide"
    }
   },
   "source": [
    "# Parallelisation with nessai\n",
    "\n",
    "In `nessai` new points are drawn in batches of typically a few thousand. This provides a natural point at which to parallelise the likelihood."
   ]
  },
  {
   "cell_type": "markdown",
   "id": "e4830112",
   "metadata": {
    "hideCode": false,
    "hidePrompt": false,
    "slideshow": {
     "slide_type": "fragment"
    }
   },
   "source": [
    "For example, for a CBC case this can signficantly reduce sampling time.\n",
    "\n",
    "<center><img src='figures/paralellisation.png'></center>"
   ]
  },
  {
   "cell_type": "markdown",
   "id": "e86faa3f",
   "metadata": {
    "slideshow": {
     "slide_type": "slide"
    }
   },
   "source": [
    "# Using nessai"
   ]
  },
  {
   "cell_type": "markdown",
   "id": "514f75fe",
   "metadata": {
    "hideCode": false,
    "hidePrompt": false,
    "slideshow": {
     "slide_type": "slide"
    }
   },
   "source": [
    "# Using nessai\n",
    "\n",
    "`nessai` can be used independently or via `bilby`. Here I'll show you how to set up a run using `nessai` in `bilby`."
   ]
  },
  {
   "cell_type": "markdown",
   "id": "06acdf44-d18a-4f17-b442-890bc108f3f9",
   "metadata": {
    "hideCode": false,
    "hidePrompt": false,
    "slideshow": {
     "slide_type": "fragment"
    }
   },
   "source": [
    "### Installation\n",
    "\n",
    "`nessai` is included in bilby but is not installed by default. It can be installed using `pip`:\n",
    "\n",
    "```bash\n",
    "$ pip install nessai\n",
    "```\n",
    "\n",
    "though it depends on `PyTorch` so it is strongly recommended to install first following the instructions [here](https://pytorch.org/).\n",
    "\n",
    "This example is based on the linear regression example from `bilby`."
   ]
  },
  {
   "cell_type": "code",
   "execution_count": 2,
   "id": "729cfcae-090c-4823-908e-8fa9c15c64ef",
   "metadata": {
    "hideCode": false,
    "hidePrompt": false,
    "slideshow": {
     "slide_type": "skip"
    },
    "tags": []
   },
   "outputs": [],
   "source": [
    "import bilby\n",
    "import numpy as np\n",
    "# Set this so we can re-run this example multiple times\n",
    "bilby.utils.command_line_args.clean = True"
   ]
  },
  {
   "cell_type": "markdown",
   "id": "6c6474e1-f9d9-46ad-b3e2-134c4131ebcd",
   "metadata": {
    "hideCode": false,
    "hidePrompt": false,
    "slideshow": {
     "slide_type": "slide"
    },
    "tags": []
   },
   "source": [
    "# Setting up a model\n",
    "\n",
    "We're going to use a simple linear function for the model:\n",
    "\n",
    "$$\n",
    "f(t) = mt + c\n",
    "$$"
   ]
  },
  {
   "cell_type": "code",
   "execution_count": 3,
   "id": "037fdfea",
   "metadata": {
    "cell_style": "split",
    "hideCode": false,
    "hidePrompt": false,
    "slideshow": {
     "slide_type": "fragment"
    }
   },
   "outputs": [],
   "source": [
    "def model(time, m, c):\n",
    "    \"\"\"Basic linear model.\"\"\"\n",
    "    return time * m + c\n",
    "\n",
    "# Generate the data\n",
    "injection_parameters = dict(m=1.3, c=-1.7)\n",
    "sampling_frequency = 10\n",
    "time_duration = 10\n",
    "time = np.arange(0, time_duration, 1 / sampling_frequency)\n",
    "N = len(time)\n",
    "sigma = np.random.normal(1, 0.01, N)\n",
    "data = model(time, **injection_parameters) + np.random.normal(0, sigma, N)\n",
    "\n",
    "# Define the likelihood\n",
    "likelihood = bilby.likelihood.GaussianLikelihood(time, data, model, sigma)\n",
    "\n",
    "# Define priors on m and c\n",
    "priors = dict()\n",
    "priors['m'] = bilby.core.prior.Uniform(0, 5, 'm')\n",
    "priors['c'] = bilby.core.prior.Uniform(-2, 2, 'c')"
   ]
  },
  {
   "cell_type": "code",
   "execution_count": 4,
   "id": "40c85afd",
   "metadata": {
    "cell_style": "split",
    "hideCode": true,
    "hidePrompt": false,
    "scrolled": false,
    "slideshow": {
     "slide_type": "fragment"
    }
   },
   "outputs": [
    {
     "data": {
      "image/png": "[encoded data removed]",
      "text/plain": [
       "<Figure size 900x600 with 1 Axes>"
      ]
     },
     "metadata": {},
     "output_type": "display_data"
    }
   ],
   "source": [
    "plt.plot(time, data, '.')\n",
    "plt.plot(time, model(time, **injection_parameters))\n",
    "plt.xlabel('Time [s]')\n",
    "plt.ylabel('Data')\n",
    "plt.show()"
   ]
  },
  {
   "cell_type": "markdown",
   "id": "4c34cb27-e209-434b-aec3-855792ed3331",
   "metadata": {
    "cell_style": "center",
    "hideCode": false,
    "hidePrompt": false,
    "slideshow": {
     "slide_type": "slide"
    },
    "tags": []
   },
   "source": [
    "# Running nessai using bilby\n",
    "\n",
    "Just like any other sampler you configure `nessai` by passing arugmenting to `run_sampler`"
   ]
  },
  {
   "cell_type": "markdown",
   "id": "66bbc8e8",
   "metadata": {
    "slideshow": {
     "slide_type": "skip"
    }
   },
   "source": [
    "Need to do the usual configuration"
   ]
  },
  {
   "cell_type": "code",
   "execution_count": 5,
   "id": "86fc0e10",
   "metadata": {
    "hideCode": false,
    "hidePrompt": false,
    "slideshow": {
     "slide_type": "skip"
    }
   },
   "outputs": [],
   "source": [
    "label = \"example\"\n",
    "outdir = \"outdir\"\n",
    "bilby.utils.setup_logger(outdir=outdir, label=label, log_level='WARNING')"
   ]
  },
  {
   "cell_type": "code",
   "execution_count": 6,
   "id": "ca9ead87-d01c-46d8-84c0-db2b4e7e79e7",
   "metadata": {
    "cell_style": "center",
    "hideCode": false,
    "hidePrompt": false,
    "scrolled": false,
    "slideshow": {
     "slide_type": "fragment"
    },
    "tags": []
   },
   "outputs": [
    {
     "name": "stderr",
     "output_type": "stream",
     "text": [
      "09:33 bilby WARNING : Setting pool to None (n_pool=1 & max_threads=1)\n",
      "12-13 09:33 nessai.nestedsampler WARNING : Proposal will only train when empty\n",
      "12-13 09:33 nessai.proposal.flowproposal WARNING : Extra kwargs were parsed to FlowProposal: {'augment_dims': 1, 'generate_augment': 'gaussian', 'marginalise_augment': False, 'n_marg': 50}\n",
      "Drawing live points: 100%|███████████████████████████████████████████████████████████████████████████| 1000/1000 [00:00<00:00, 20667.81it/s]\n",
      "12-13 09:33 nessai.nestedsampler CRITICAL: Starting nested sampling loop\n",
      "12-13 09:33 nessai.nestedsampler WARNING : it:  1000: n eval: 2764 H: 7.80 dZ: 1335.127 logZ: -1477.768 +/- 0.088 logLmax: -141.64\n",
      "12-13 09:33 nessai.nestedsampler WARNING : Rolling KS test: D=0.017, p-value=0.5547\n",
      "12-13 09:33 nessai.nestedsampler WARNING : it:  2000: n eval: 7331 H: 7.14 dZ: 246.234 logZ: -389.792 +/- 0.084 logLmax: -141.56\n",
      "12-13 09:33 nessai.nestedsampler WARNING : Rolling KS test: D=0.015, p-value=0.6313\n",
      "12-13 09:33 nessai.nestedsampler WARNING : Switching to FlowProposal\n",
      "12-13 09:33 nessai.nestedsampler WARNING : it:  3000: n eval: 9384 H: 6.59 dZ: 83.543 logZ: -228.102 +/- 0.081 logLmax: -141.56\n",
      "12-13 09:33 nessai.nestedsampler WARNING : Rolling KS test: D=0.023, p-value=0.3419\n",
      "12-13 09:33 nessai.nestedsampler WARNING : it:  4000: n eval: 11269 H: 6.44 dZ: 30.347 logZ: -175.879 +/- 0.080 logLmax: -141.53\n",
      "12-13 09:33 nessai.nestedsampler WARNING : Rolling KS test: D=0.023, p-value=0.3419\n",
      "12-13 09:33 nessai.nestedsampler WARNING : it:  5000: n eval: 13064 H: 6.41 dZ: 10.450 logZ: -156.980 +/- 0.080 logLmax: -141.53\n",
      "12-13 09:33 nessai.nestedsampler WARNING : Rolling KS test: D=0.014, p-value=0.6695\n",
      "12-13 09:33 nessai.nestedsampler WARNING : it:  6000: n eval: 15046 H: 6.17 dZ: 3.551 logZ: -151.045 +/- 0.079 logLmax: -141.52\n",
      "12-13 09:33 nessai.nestedsampler WARNING : Rolling KS test: D=0.011, p-value=0.7794\n",
      "12-13 09:33 nessai.nestedsampler WARNING : it:  7000: n eval: 16959 H: 6.01 dZ: 1.171 logZ: -149.323 +/- 0.078 logLmax: -141.52\n",
      "12-13 09:33 nessai.nestedsampler WARNING : Rolling KS test: D=0.015, p-value=0.6313\n",
      "12-13 09:33 nessai.nestedsampler WARNING : it:  8000: n eval: 19056 H: 5.97 dZ: 0.378 logZ: -148.744 +/- 0.077 logLmax: -141.52\n",
      "12-13 09:33 nessai.nestedsampler WARNING : Rolling KS test: D=0.014, p-value=0.6695\n",
      "12-13 09:33 nessai.nestedsampler WARNING : it:  9000: n eval: 21048 H: 5.95 dZ: 0.128 logZ: -148.535 +/- 0.077 logLmax: -141.52\n",
      "12-13 09:33 nessai.nestedsampler WARNING : Rolling KS test: D=0.021, p-value=0.4082\n",
      "12-13 09:33 nessai.nestedsampler WARNING : it:  9238: n eval: 21433 H: 5.95 dZ: 0.100 logZ: -148.414 +/- 0.077 logLmax: -141.52\n",
      "12-13 09:33 nessai.nestedsampler CRITICAL: Final evidence: -148.414 +/- 0.077\n",
      "12-13 09:33 nessai.nestedsampler CRITICAL: Information: 5.95\n",
      "12-13 09:33 nessai.nestedsampler WARNING : Final KS test: D=0.005318, p-value=0.5909\n",
      "12-13 09:33 nessai.nestedsampler CRITICAL: Checkpointing nested sampling\n"
     ]
    }
   ],
   "source": [
    "# We disable checkpointing for this example\n",
    "result = bilby.run_sampler(\n",
    "    likelihood=likelihood, priors=priors, outdir=outdir, label=label,\n",
    "    sampler=\"nessai\", nlive=1000, plot=True, resume=False, checkpointing=False,  \n",
    "    injection_parameters=injection_parameters, seed=150914,\n",
    ")"
   ]
  },
  {
   "cell_type": "markdown",
   "id": "c6ca32e9",
   "metadata": {
    "slideshow": {
     "slide_type": "subslide"
    }
   },
   "source": [
    "# Parallelisation\n",
    "\n",
    "Parallelisation is simple, we set a maximum number of threads (`max_threads`) and a number threads to use for the likelihood (`n_pool`).\n",
    "\n",
    "The benefit is minimal in this example because the likelihood is quick to evaluate and the problem is simple."
   ]
  },
  {
   "cell_type": "code",
   "execution_count": 7,
   "id": "6c74c179",
   "metadata": {
    "slideshow": {
     "slide_type": "fragment"
    }
   },
   "outputs": [
    {
     "name": "stderr",
     "output_type": "stream",
     "text": [
      "09:33 bilby WARNING : Supplied argument 'npool' not an argument of 'Nessai', removing.\n",
      "12-13 09:33 nessai.nestedsampler WARNING : Proposal will only train when empty\n",
      "12-13 09:33 nessai.proposal.flowproposal WARNING : Extra kwargs were parsed to FlowProposal: {'augment_dims': 1, 'generate_augment': 'gaussian', 'marginalise_augment': False, 'n_marg': 50}\n",
      "Drawing live points: 100%|███████████████████████████████████████████████████████████████████████████| 1000/1000 [00:00<00:00, 29975.16it/s]\n",
      "12-13 09:33 nessai.nestedsampler CRITICAL: Starting nested sampling loop\n",
      "12-13 09:33 nessai.nestedsampler WARNING : it:  1000: n eval: 3000 H: 7.80 dZ: 1335.127 logZ: -1477.768 +/- 0.088 logLmax: -141.64\n",
      "12-13 09:33 nessai.nestedsampler WARNING : Rolling KS test: D=0.017, p-value=0.5547\n",
      "12-13 09:33 nessai.nestedsampler WARNING : it:  2000: n eval: 8000 H: 7.14 dZ: 246.234 logZ: -389.792 +/- 0.084 logLmax: -141.56\n",
      "12-13 09:33 nessai.nestedsampler WARNING : Rolling KS test: D=0.015, p-value=0.6313\n",
      "12-13 09:33 nessai.nestedsampler WARNING : Switching to FlowProposal\n",
      "12-13 09:34 nessai.nestedsampler WARNING : it:  3000: n eval: 10313 H: 6.59 dZ: 83.543 logZ: -228.102 +/- 0.081 logLmax: -141.56\n",
      "12-13 09:34 nessai.nestedsampler WARNING : Rolling KS test: D=0.023, p-value=0.3419\n",
      "12-13 09:34 nessai.nestedsampler WARNING : it:  4000: n eval: 13109 H: 6.44 dZ: 30.347 logZ: -175.879 +/- 0.080 logLmax: -141.53\n",
      "12-13 09:34 nessai.nestedsampler WARNING : Rolling KS test: D=0.023, p-value=0.3419\n",
      "12-13 09:34 nessai.nestedsampler WARNING : it:  5000: n eval: 14460 H: 6.41 dZ: 10.450 logZ: -156.980 +/- 0.080 logLmax: -141.53\n",
      "12-13 09:34 nessai.nestedsampler WARNING : Rolling KS test: D=0.014, p-value=0.6695\n",
      "12-13 09:34 nessai.nestedsampler WARNING : it:  6000: n eval: 15815 H: 6.17 dZ: 3.551 logZ: -151.045 +/- 0.079 logLmax: -141.52\n",
      "12-13 09:34 nessai.nestedsampler WARNING : Rolling KS test: D=0.011, p-value=0.7794\n",
      "12-13 09:34 nessai.nestedsampler WARNING : it:  7000: n eval: 18577 H: 6.01 dZ: 1.171 logZ: -149.323 +/- 0.078 logLmax: -141.52\n",
      "12-13 09:34 nessai.nestedsampler WARNING : Rolling KS test: D=0.015, p-value=0.6313\n",
      "12-13 09:34 nessai.nestedsampler WARNING : it:  8000: n eval: 20090 H: 5.97 dZ: 0.378 logZ: -148.744 +/- 0.077 logLmax: -141.52\n",
      "12-13 09:34 nessai.nestedsampler WARNING : Rolling KS test: D=0.014, p-value=0.6695\n",
      "12-13 09:34 nessai.nestedsampler WARNING : it:  9000: n eval: 22947 H: 5.95 dZ: 0.128 logZ: -148.535 +/- 0.077 logLmax: -141.52\n",
      "12-13 09:34 nessai.nestedsampler WARNING : Rolling KS test: D=0.021, p-value=0.4082\n",
      "12-13 09:34 nessai.nestedsampler WARNING : it:  9238: n eval: 22947 H: 5.95 dZ: 0.100 logZ: -148.414 +/- 0.077 logLmax: -141.52\n",
      "12-13 09:34 nessai.nestedsampler CRITICAL: Final evidence: -148.414 +/- 0.077\n",
      "12-13 09:34 nessai.nestedsampler CRITICAL: Information: 5.95\n",
      "12-13 09:34 nessai.nestedsampler WARNING : Final KS test: D=0.005318, p-value=0.5909\n",
      "12-13 09:34 nessai.nestedsampler CRITICAL: Checkpointing nested sampling\n"
     ]
    }
   ],
   "source": [
    "# We disable checkpointing for this example\n",
    "result = bilby.run_sampler(\n",
    "    likelihood=likelihood, priors=priors, outdir=outdir, label=label,\n",
    "    sampler=\"nessai\", nlive=1000, plot=True, resume=False, checkpointing=False,  \n",
    "    injection_parameters=injection_parameters, seed=150914,\n",
    "    max_threads=3, n_pool=2,\n",
    ")"
   ]
  },
  {
   "cell_type": "markdown",
   "id": "e070a25e",
   "metadata": {
    "hideCode": false,
    "hidePrompt": false,
    "slideshow": {
     "slide_type": "slide"
    }
   },
   "source": [
    "# Results\n",
    "\n",
    "The standard `bilby` results will be produced, but `nessai` also produces some specific results in `_nessai` directory.\n"
   ]
  },
  {
   "cell_type": "markdown",
   "id": "ab0486c4",
   "metadata": {
    "hideCode": false,
    "hidePrompt": false,
    "slideshow": {
     "slide_type": "subslide"
    }
   },
   "source": [
    "## Posterior distribution\n",
    "\n",
    "<center><img src=\"outdir/example_corner.png\" style=\"display:block; margin:auto\"></center>\n"
   ]
  },
  {
   "cell_type": "markdown",
   "id": "83bb26ea",
   "metadata": {
    "slideshow": {
     "slide_type": "subslide"
    }
   },
   "source": [
    "## Nessai specific outputs\n",
    "\n",
    "These includes details about the exact configuration used, a results file with additional information and additional plots. These all can be helpful when examining runs."
   ]
  },
  {
   "cell_type": "code",
   "execution_count": 8,
   "id": "574b76b0",
   "metadata": {
    "hideCode": false,
    "hidePrompt": false,
    "scrolled": true,
    "slideshow": {
     "slide_type": "fragment"
    }
   },
   "outputs": [
    {
     "name": "stdout",
     "output_type": "stream",
     "text": [
      "config.json\t       nested_sampler_resume.pkl      result.json\r\n",
      "diagnostics\t       nested_sampler_resume.pkl.old  state.png\r\n",
      "insertion_indices.png  posterior_distribution.png     trace.png\r\n",
      "logXlogL.png\t       proposal\r\n"
     ]
    }
   ],
   "source": [
    "!ls outdir/example_nessai/"
   ]
  },
  {
   "cell_type": "markdown",
   "id": "8e24b9e5-49be-4520-9ada-3f532bdfe6fc",
   "metadata": {
    "hideCode": false,
    "hidePrompt": false,
    "slideshow": {
     "slide_type": "slide"
    },
    "tags": []
   },
   "source": [
    "## Diagnosing a run\n",
    "\n",
    "`nessai` includes various diagnostic plots that can help diagnose runs. These can help you indenfity problems during sampling and under- or over-constrained results."
   ]
  },
  {
   "cell_type": "markdown",
   "id": "4a8ea591-0051-444a-aeff-fcac532ea990",
   "metadata": {
    "hideCode": false,
    "hidePrompt": false,
    "slideshow": {
     "slide_type": "subslide"
    }
   },
   "source": [
    "## Trace plot\n",
    "\n",
    "<center><img src='outdir/example_nessai/trace.png'></center>"
   ]
  },
  {
   "cell_type": "markdown",
   "id": "98a7bd25-eaff-4e8c-b73b-edce22ad47b6",
   "metadata": {
    "hideCode": false,
    "hidePrompt": false,
    "slideshow": {
     "slide_type": "subslide"
    }
   },
   "source": [
    "## State plot\n",
    "\n",
    "<center><img src='outdir/example_nessai/state.png'></center>"
   ]
  },
  {
   "cell_type": "markdown",
   "id": "fe6cfd67-e291-4266-b288-d712747c8733",
   "metadata": {
    "hideCode": false,
    "hidePrompt": false,
    "slideshow": {
     "slide_type": "subslide"
    }
   },
   "source": [
    "## Indices plot\n",
    "\n",
    "Fowlie et al showed that a cross-check based on order statistics can detect problems during sampling. The check is backed on the observation that insertion indexes of new live points into the existing live points should be uniformly distributed.\n",
    "\n",
    "<center><img src='outdir/example_nessai/insertion_indices.png'></center>\n",
    "\n",
    "See arXiv:2006.03371 for more details\n"
   ]
  },
  {
   "cell_type": "markdown",
   "id": "6a923ed6",
   "metadata": {
    "slideshow": {
     "slide_type": "slide"
    }
   },
   "source": [
    "# A word of caution\n",
    "\n",
    "Whilst normalising flows can learn complex distributions, there are some limitations, for example they struggle with angles and peridicity.\n",
    "\n",
    "Thankfully we can address this by reparameterising the sampling space to something that is better suited to flows."
   ]
  },
  {
   "cell_type": "markdown",
   "id": "d2cc67cc",
   "metadata": {
    "slideshow": {
     "slide_type": "fragment"
    }
   },
   "source": [
    "For example, say our likelihood included an angle $\\theta$ that is periodic on $[0, 2\\pi]$. We can configure `nessai` based on this information by adding a reparameterisation:\n",
    "\n",
    "```python\n",
    "result = bilby.run_sampler(\n",
    "    likelihood=likelihood,\n",
    "    priors=priors,\n",
    "    sampler=\"nessai\",\n",
    "    outdir=outdir,\n",
    "    label=label,\n",
    "    plot=True,\n",
    "    injection_parameters=injection_parameters,\n",
    "    reparameterisations={'theta': {'reparamerisation': 'angle-2pi'}},\n",
    ")\n",
    "\n",
    "```\n",
    "This tells `nessai` to use the built-in reparameterisation for angles that are periodic on on $[0, 2 \\pi]$. "
   ]
  },
  {
   "cell_type": "markdown",
   "id": "a85d8d6c",
   "metadata": {
    "slideshow": {
     "slide_type": "fragment"
    }
   },
   "source": [
    "More details about the different reparameterisations can be found in the documentation."
   ]
  },
  {
   "cell_type": "markdown",
   "id": "64e6a13c",
   "metadata": {
    "cell_style": "center",
    "hideCode": false,
    "hidePrompt": false,
    "slideshow": {
     "slide_type": "slide"
    }
   },
   "source": [
    "# Summary\n",
    "\n",
    "* `nessai` is nested sampling algorithm that incorporates normalising flows\n",
    "* It can speed up inference when compared another commonly used sampler `dynesty`\n",
    "* Parallelising the likelihood computation is simple in `nessai`\n",
    "* It's available in `bilby` and ready for use"
   ]
  },
  {
   "cell_type": "markdown",
   "id": "2a056861",
   "metadata": {
    "cell_style": "center",
    "slideshow": {
     "slide_type": "fragment"
    }
   },
   "source": [
    "# For more details\n",
    "\n",
    "* [Documentation](https://nessai.readthedocs.io/en/latest/?badge=latest)\n",
    "* [Examples](https://github.com/mj-will/nessai/tree/main/examples)\n",
    "* The nessai paper: [Nested Sampling with Normalising Flows for Gravitational-Wave Inference](https://arxiv.org/abs/2102.11056)"
   ]
  },
  {
   "cell_type": "markdown",
   "id": "2706a143",
   "metadata": {
    "hideCode": false,
    "hidePrompt": false,
    "slideshow": {
     "slide_type": "slide"
    }
   },
   "source": [
    "# Questions?"
   ]
  },
  {
   "cell_type": "markdown",
   "id": "76bb8fec",
   "metadata": {
    "slideshow": {
     "slide_type": "slide"
    }
   },
   "source": [
    "# Additional slides"
   ]
  },
  {
   "cell_type": "markdown",
   "id": "c080e7d6",
   "metadata": {
    "slideshow": {
     "slide_type": "subslide"
    }
   },
   "source": [
    "# Applying nessai to GW inference\n",
    "\n",
    "`nessai` includes a default configuration for gravitional-wave inference. This includes reparameterisations for common parameters. \n",
    "\n",
    "This requires an additional setting shown below\n",
    "\n",
    "```python\n",
    "result = bilby.run_sampler(\n",
    "    likelihood=likelihood,\n",
    "    priors=priors,\n",
    "    sampler=\"nessai\",\n",
    "    outdir=outdir,\n",
    "    label=label,\n",
    "    plot=True,\n",
    "    injection_parameters=injection_parameters,\n",
    "    flow_class='gwflowproposal',\n",
    ")\n",
    "\n",
    "```"
   ]
  }
 ],
 "metadata": {
  "celltoolbar": "Slideshow",
  "hide_code_all_hidden": false,
  "kernelspec": {
   "display_name": "nessai",
   "language": "python",
   "name": "nessai"
  },
  "language_info": {
   "codemirror_mode": {
    "name": "ipython",
    "version": 3
   },
   "file_extension": ".py",
   "mimetype": "text/x-python",
   "name": "python",
   "nbconvert_exporter": "python",
   "pygments_lexer": "ipython3",
   "version": "3.9.6"
  },
  "rise": {
   "autolaunch": true,
   "enable_chalkboard": true,
   "scroll": true
  }
 },
 "nbformat": 4,
 "nbformat_minor": 5
}
